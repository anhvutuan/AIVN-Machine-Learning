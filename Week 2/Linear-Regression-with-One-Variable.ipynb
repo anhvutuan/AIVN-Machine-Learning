{
 "cells": [
  {
   "cell_type": "markdown",
   "metadata": {},
   "source": [
    "Bài viết đầu tiên về các thuật toán trong Machine Learning, chúng ta sẽ cùng tìm hiểu thuật toán Linear Regression (Hồi quy tuyến tính). Linear Regression là một trong những thuật toán cơ bản nhất của Machine Learning và là một thuật toán Supervised (học có giám sát) trong đó đầu vào và đầu ra được mô tả bởi một hàm tuyến tính.\n",
    "\n",
    "Nhắc lại bài toán Regression (hồi quy) ta có đầu ra dự đoán có giá trị liên tục và độ dốc không đổi. Dạng toán này được sử dụng trong các bài toán có giá trị liên tục như: giá nhà, doanh số kinh doanh ... \n",
    "\n",
    "<img src=https://camo.githubusercontent.com/22813ec95804d4d672251ab44f4f63cf1a015eff/68747470733a2f2f75706c6f61642e77696b696d656469612e6f72672f77696b6970656469612f636f6d6d6f6e732f332f33612f4c696e6561725f72656772657373696f6e2e737667>"
   ]
  },
  {
   "cell_type": "markdown",
   "metadata": {},
   "source": [
    "### 1. Giới thiệu bài toán hồi quy tuyến tính đơn biến \n",
    "\n",
    "Hồi quy tuyến tính đơn biến (Linear Regression with One Variable) được sử dụng khi bạn muốn dự đoán giá trị đầu ra `y` từ 1 giá trị đầu vào `x`. Khi đó hàm giả thuyết của chúng ta có dạng:\n",
    "\n",
    "<center> $\\hat{y} = h_{\\theta}(x) = \\theta_0 + \\theta_1{x}$ </center>\n",
    "\n",
    "*Lưu ý:* \n",
    "- Đây giống như phương trình đường thẳng, với 2 tham số chúng ta cần tìm là $\\theta_0$, $\\theta_1$ để dự đoán giá trị $\\hat{y}$.\n",
    "\n",
    "- Chúng ta mong muốn giá trị $\\hat{y} \\approx y$. Với $y$ là giá trị thực của đầu ra."
   ]
  },
  {
   "cell_type": "markdown",
   "metadata": {},
   "source": [
    "Ví dụ: Giả sử chúng ta có bộ dữ liệu như sau:\n",
    "\n",
    "<img src=\"images/linear-ex.png\">\n",
    "\n",
    "Với giá trị ngẫu nhiên $\\theta_0 = 2$ và $\\theta_1 = 2$. Khi đó hàm giả thuyết trở thành: $h_{\\theta}(x) = 2 +2{x}$.\n",
    "\n",
    "Khi đó: input x = 0 ta có: $\\hat{y}(0) = 2 + 2*0 = 2$ khác xa rất nhiều so với $y(0) = 4$. \n",
    "\n",
    "Điều chúng ta mong muốn có thể tìm được $\\theta_0$, $\\theta_1$ sao cho sự khác nhau giữa $\\hat{y}$ và $y$ là rất nhỏ."
   ]
  },
  {
   "cell_type": "markdown",
   "metadata": {},
   "source": [
    "### 2. Hàm mất mát \n",
    "\n",
    "Hàm mất mát, hay còn được gọi là Cost Function hoặc Loss Function dùng để đánh giá mức độ sai lệch giữa giá trị dự đoán $\\hat{y}$ và giá trị thực $y$. Chúng ta mong muốn khoảng cách giữa 2 giá trị này càng nhỏ càng tốt. Chúng ta sẽ sử dụng đánh giá sai số bình phương trung bình:\n",
    "\n",
    "<center>$J(\\theta_0, \\theta_1) = \\dfrac{1}{2m} \\sum_{i=1}^m {(\\hat{y} - y)^2} = \\dfrac{1}{2m} \\sum_{i=1}^m {(h_{\\theta}(x_i) - y)^2}$</center>"
   ]
  },
  {
   "cell_type": "markdown",
   "metadata": {},
   "source": [
    "*Chú thích:*\n",
    "\n",
    "- m là số quan sát (số dữ liệu).\n",
    "\n",
    "- $\\dfrac{1}{m} \\sum_{i=1}^m$ là trung bình.\n",
    "\n",
    "- Hệ số $\\dfrac{1}{2}$ sẽ giúp triệt tiêu 2 khi thực hiện đạo hàm $J$ theo $\\theta$.\n",
    "\n",
    "Bây giờ chúng ta có công cụ chính xác để đánh giá mức độ sai lệch giữa giá trị dự đoán và giá trị thực. Mục tiêu của chúng ta mong muốn giá trị Loss này càng nhỏ càng tốt - khi đó $J \\approx 0$ là giá trị kỳ vọng."
   ]
  },
  {
   "cell_type": "code",
   "execution_count": null,
   "metadata": {},
   "outputs": [],
   "source": []
  }
 ],
 "metadata": {
  "kernelspec": {
   "display_name": "Python 3",
   "language": "python",
   "name": "python3"
  },
  "language_info": {
   "codemirror_mode": {
    "name": "ipython",
    "version": 3
   },
   "file_extension": ".py",
   "mimetype": "text/x-python",
   "name": "python",
   "nbconvert_exporter": "python",
   "pygments_lexer": "ipython3",
   "version": "3.7.3"
  }
 },
 "nbformat": 4,
 "nbformat_minor": 2
}
