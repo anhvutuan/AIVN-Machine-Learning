{
 "cells": [
  {
   "cell_type": "markdown",
   "metadata": {},
   "source": [
    "Trong bài trước, chúng ta đã cùng tìm hiểu về bài toán [Hồi quy tuyến tính](https://nbviewer.jupyter.org/github/thanhhff/AIVN-Machine-Learning/blob/master/Week%202/Linear-Regression-with-One-Variable.ipynb) - trong bài toán hồi quy, đầu ra của bài toán là dữ liệu liên tục. Trong phần này, chúng ta tìm hiểu về bài toán học có giám sát - Hồi quy Logistic với đầu ra là dữ liệu rời rạc."
   ]
  },
  {
   "cell_type": "markdown",
   "metadata": {},
   "source": [
    "### 1. Liệu có thể sử dụng Linear Regression cho bài toán Logistic Regression?\n",
    "\n",
    "Đặt vấn đề: Tại sao bài toán hồi quy tuyến tính (Linear Regression) lại không thể sử dụng cho bài toán Logistic Regression?\n",
    "\n",
    "Giả sử trong trường hợp chúng ta cần phân loại một người có mắc bệnh ung thư (1) hay không mắc bệnh ung thư (0).\n",
    "\n",
    "Trong thuật toán của Linear Regression không đưa ra xác suất mắc bệnh để dự đoán là 0 hay 1 mà sẽ tính khoảng cách từ các điểm dữ liệu đến siêu mặt phẳng sao cho khoảng cách này là nhỏ nhất - tức hàm Loss đạt giá trị thấp nhất có thể:\n",
    "\n",
    "<br><center>$J(\\theta) = \\dfrac{1}{2m}  \\sum_{i = 1}^{m} {(h_{\\theta}(x^{(i)}) - y^{(i)})^2}$</center>\n",
    "\n",
    "Chúng ta sẽ sử dụng kích thước khối u (Tumor Size) để dự đoán. Kết quả của bài toán sẽ được như sau:"
   ]
  },
  {
   "cell_type": "markdown",
   "metadata": {},
   "source": [
    "\n",
    "<img src=\"https://i.stack.imgur.com/VVtRW.png\" style=\"width:30%;height:30%;\">"
   ]
  },
  {
   "cell_type": "markdown",
   "metadata": {},
   "source": [
    "Trong hình trên: 1 - ung thư, 0 - không ung thư và đường kẻ màu xanh là hàm giả thuyết $h(x)$. Có thể dễ dàng phân loại được với dữ liệu như này: \n",
    "- Nếu $h(x) >= 0.5$: kết luận người này bị ung thư.\n",
    "- Nếu $h(x) < 0.5$: kết luận không bị ung thư."
   ]
  },
  {
   "cell_type": "markdown",
   "metadata": {},
   "source": [
    "Tuy nhiên, thật may mắn với các dữ liệu ở trên. Bây giờ chúng ta sẽ thêm dữ liệu mới và xem kết quả dự đoán: \n",
    "\n",
    "<img src=\"https://i.stack.imgur.com/nEC4H.png\" style=\"width:50%;height:50%;\">\n",
    "\n",
    "Lần này, nếu $h(x) >= 0.5$ không thể phân loại tốt được như trước nữa. Mà phải thay đổi hàm $h(x) >= 0.2$ để có thể dự đoán chính xác."
   ]
  },
  {
   "cell_type": "markdown",
   "metadata": {},
   "source": [
    "Chúng ta không thể thực hiện thay đổi giá trị hàm giả thuyết $h(x)$ mỗi khi có dữ liệu thay đổi. Mà thay vào đó, chúng ta sẽ sử dụng bài toán hồi quy Logistic để phân loại 2 nhóm (phân loại nhị phân 0 hay 1). Trong các bài tới, chúng ta sẽ tìm hiểu về bài toán phân loại nhiều nhóm đối tượng."
   ]
  },
  {
   "cell_type": "markdown",
   "metadata": {},
   "source": [
    "### 2. Mô hình bài toán Logistic Regression \n",
    "\n"
   ]
  },
  {
   "cell_type": "markdown",
   "metadata": {},
   "source": [
    "### Tài liệu tham khảo \n",
    "\n",
    "https://stats.stackexchange.com/questions/22381/why-not-approach-classification-through-regression"
   ]
  },
  {
   "cell_type": "code",
   "execution_count": null,
   "metadata": {},
   "outputs": [],
   "source": []
  }
 ],
 "metadata": {
  "kernelspec": {
   "display_name": "Python 3",
   "language": "python",
   "name": "python3"
  },
  "language_info": {
   "codemirror_mode": {
    "name": "ipython",
    "version": 3
   },
   "file_extension": ".py",
   "mimetype": "text/x-python",
   "name": "python",
   "nbconvert_exporter": "python",
   "pygments_lexer": "ipython3",
   "version": "3.7.3"
  }
 },
 "nbformat": 4,
 "nbformat_minor": 2
}
